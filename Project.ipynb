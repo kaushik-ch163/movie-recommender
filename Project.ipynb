{
 "cells": [
  {
   "cell_type": "code",
   "execution_count": 34,
   "id": "bc5dc944-5ca4-4d0e-9d23-1e33c4de7618",
   "metadata": {},
   "outputs": [],
   "source": [
    "import numpy as np\n",
    "import pandas as pd"
   ]
  },
  {
   "cell_type": "markdown",
   "id": "d0498a78",
   "metadata": {},
   "source": [
    "### Read & Merge the tables \n",
    "### Column Discard"
   ]
  },
  {
   "cell_type": "code",
   "execution_count": 35,
   "id": "9ea155be-b76a-436a-b9bc-bfd1c7045bc4",
   "metadata": {},
   "outputs": [],
   "source": [
    "movies, credits = pd.read_csv('tmdb_5000_movies.csv'), pd.read_csv('tmdb_5000_credits.csv')\n",
    "movies = movies.merge(credits, on='title')\n",
    "# movies.head(1)\n",
    "\n",
    "movies = movies[['id', 'title', 'overview', 'genres', 'keywords', 'cast', 'crew']]\n",
    "movies['title'] = movies['title'].str.lower()  # Convert all movie titles to lowercase\n",
    "\n",
    "# movies.head(1)"
   ]
  },
  {
   "cell_type": "markdown",
   "id": "dda2346a",
   "metadata": {},
   "source": [
    "### Data Preprocessing"
   ]
  },
  {
   "cell_type": "code",
   "execution_count": 36,
   "id": "88c163a5",
   "metadata": {},
   "outputs": [],
   "source": [
    "movies.dropna(inplace=True)\n",
    "movies.drop_duplicates(inplace=True)"
   ]
  },
  {
   "cell_type": "code",
   "execution_count": 37,
   "id": "34831d36",
   "metadata": {},
   "outputs": [],
   "source": [
    "import ast\n",
    "# Fetching genres, keywords, cast and crew from the json string\n",
    "movies['genres'] = movies['genres'].apply(\n",
    "    lambda text: [i['name'] for i in ast.literal_eval(text)])\n",
    "\n",
    "\n",
    "movies['keywords'] = movies['keywords'].apply(\n",
    "    lambda x: [i['name'] for i in ast.literal_eval(x)])\n",
    "\n",
    "movies['cast'] = movies['cast'].apply(\n",
    "    lambda text: [i['name'] for idx, i in enumerate(ast.literal_eval(text)) if idx < 3])\n",
    "\n",
    "movies['crew'] = movies['crew'].apply(\n",
    "    lambda text: [i['name'] for i in ast.literal_eval(text) if i['job'] == 'Director'])\n",
    "\n",
    "\n",
    "# Converting the overview to a list of words\n",
    "movies['overview'] = movies['overview'].apply(lambda x: x.split())"
   ]
  },
  {
   "cell_type": "code",
   "execution_count": 38,
   "id": "794d97f9",
   "metadata": {},
   "outputs": [],
   "source": [
    "# Removing spaces from the genres, keywords, cast and crew\n",
    "\n",
    "movies['genres'] = movies['genres'].apply(lambda x: [i.replace(\" \", \"\") for i in x])\n",
    "movies['keywords'] = movies['keywords'].apply(lambda x: [i.replace(\" \", \"\") for i in x])\n",
    "movies['cast'] = movies['cast'].apply(lambda x: [i.replace(\" \", \"\") for i in x])\n",
    "movies['crew'] = movies['crew'].apply(lambda x: [i.replace(\" \", \"\") for i in x])"
   ]
  },
  {
   "cell_type": "markdown",
   "id": "7701acf4",
   "metadata": {},
   "source": [
    "### Creating a new column - combining genres, overview, keywords, cast, crew"
   ]
  },
  {
   "cell_type": "code",
   "execution_count": 39,
   "id": "e66375c8",
   "metadata": {},
   "outputs": [
    {
     "name": "stderr",
     "output_type": "stream",
     "text": [
      "C:\\Users\\kaush\\AppData\\Local\\Temp\\ipykernel_24924\\2513544439.py:5: SettingWithCopyWarning: \n",
      "A value is trying to be set on a copy of a slice from a DataFrame.\n",
      "Try using .loc[row_indexer,col_indexer] = value instead\n",
      "\n",
      "See the caveats in the documentation: https://pandas.pydata.org/pandas-docs/stable/user_guide/indexing.html#returning-a-view-versus-a-copy\n",
      "  updated_movies['tags'] = updated_movies['tags'].apply(lambda x: \" \".join(x))\n",
      "C:\\Users\\kaush\\AppData\\Local\\Temp\\ipykernel_24924\\2513544439.py:7: SettingWithCopyWarning: \n",
      "A value is trying to be set on a copy of a slice from a DataFrame.\n",
      "Try using .loc[row_indexer,col_indexer] = value instead\n",
      "\n",
      "See the caveats in the documentation: https://pandas.pydata.org/pandas-docs/stable/user_guide/indexing.html#returning-a-view-versus-a-copy\n",
      "  updated_movies['tags'] = updated_movies['tags'].apply(lambda x: x.lower())\n"
     ]
    },
    {
     "data": {
      "text/html": [
       "<div>\n",
       "<style scoped>\n",
       "    .dataframe tbody tr th:only-of-type {\n",
       "        vertical-align: middle;\n",
       "    }\n",
       "\n",
       "    .dataframe tbody tr th {\n",
       "        vertical-align: top;\n",
       "    }\n",
       "\n",
       "    .dataframe thead th {\n",
       "        text-align: right;\n",
       "    }\n",
       "</style>\n",
       "<table border=\"1\" class=\"dataframe\">\n",
       "  <thead>\n",
       "    <tr style=\"text-align: right;\">\n",
       "      <th></th>\n",
       "      <th>id</th>\n",
       "      <th>title</th>\n",
       "      <th>tags</th>\n",
       "    </tr>\n",
       "  </thead>\n",
       "  <tbody>\n",
       "    <tr>\n",
       "      <th>0</th>\n",
       "      <td>19995</td>\n",
       "      <td>avatar</td>\n",
       "      <td>in the 22nd century, a paraplegic marine is di...</td>\n",
       "    </tr>\n",
       "  </tbody>\n",
       "</table>\n",
       "</div>"
      ],
      "text/plain": [
       "      id   title                                               tags\n",
       "0  19995  avatar  in the 22nd century, a paraplegic marine is di..."
      ]
     },
     "execution_count": 39,
     "metadata": {},
     "output_type": "execute_result"
    }
   ],
   "source": [
    "movies['tags'] = movies['overview'] + movies['genres'] + \\\n",
    "    movies['keywords'] + movies['cast'] + movies['crew']\n",
    "updated_movies = movies[['id', 'title', 'tags']]\n",
    "\n",
    "updated_movies['tags'] = updated_movies['tags'].apply(lambda x: \" \".join(x))\n",
    "\n",
    "updated_movies['tags'] = updated_movies['tags'].apply(lambda x: x.lower())\n",
    "\n",
    "updated_movies.head(1)"
   ]
  },
  {
   "cell_type": "markdown",
   "id": "6ddf051b",
   "metadata": {},
   "source": [
    "### Stem() function to trim words"
   ]
  },
  {
   "cell_type": "code",
   "execution_count": 40,
   "id": "31444623",
   "metadata": {},
   "outputs": [
    {
     "name": "stderr",
     "output_type": "stream",
     "text": [
      "C:\\Users\\kaush\\AppData\\Local\\Temp\\ipykernel_24924\\1428916459.py:9: SettingWithCopyWarning: \n",
      "A value is trying to be set on a copy of a slice from a DataFrame.\n",
      "Try using .loc[row_indexer,col_indexer] = value instead\n",
      "\n",
      "See the caveats in the documentation: https://pandas.pydata.org/pandas-docs/stable/user_guide/indexing.html#returning-a-view-versus-a-copy\n",
      "  updated_movies['tags'] = updated_movies['tags'].apply(stem)\n"
     ]
    },
    {
     "data": {
      "text/html": [
       "<div>\n",
       "<style scoped>\n",
       "    .dataframe tbody tr th:only-of-type {\n",
       "        vertical-align: middle;\n",
       "    }\n",
       "\n",
       "    .dataframe tbody tr th {\n",
       "        vertical-align: top;\n",
       "    }\n",
       "\n",
       "    .dataframe thead th {\n",
       "        text-align: right;\n",
       "    }\n",
       "</style>\n",
       "<table border=\"1\" class=\"dataframe\">\n",
       "  <thead>\n",
       "    <tr style=\"text-align: right;\">\n",
       "      <th></th>\n",
       "      <th>id</th>\n",
       "      <th>title</th>\n",
       "      <th>tags</th>\n",
       "    </tr>\n",
       "  </thead>\n",
       "  <tbody>\n",
       "    <tr>\n",
       "      <th>0</th>\n",
       "      <td>19995</td>\n",
       "      <td>avatar</td>\n",
       "      <td>in the 22nd century, a parapleg marin is dispa...</td>\n",
       "    </tr>\n",
       "  </tbody>\n",
       "</table>\n",
       "</div>"
      ],
      "text/plain": [
       "      id   title                                               tags\n",
       "0  19995  avatar  in the 22nd century, a parapleg marin is dispa..."
      ]
     },
     "execution_count": 40,
     "metadata": {},
     "output_type": "execute_result"
    }
   ],
   "source": [
    "from nltk.stem.porter import PorterStemmer\n",
    "ps = PorterStemmer()\n",
    "def stem (text):\n",
    "    y = []\n",
    "    for i in text.split():\n",
    "        y.append(ps.stem(i))\n",
    "    return \" \".join(y)\n",
    "\n",
    "updated_movies['tags'] = updated_movies['tags'].apply(stem)\n",
    "updated_movies.head(1)\n"
   ]
  },
  {
   "cell_type": "markdown",
   "id": "2cbe2580",
   "metadata": {},
   "source": [
    "### Model Creation"
   ]
  },
  {
   "cell_type": "code",
   "execution_count": 41,
   "id": "f1c34482",
   "metadata": {},
   "outputs": [],
   "source": [
    "# Creating a count vectorizer to convert the text to vectors\n",
    "from sklearn.feature_extraction.text import CountVectorizer\n",
    "cv = CountVectorizer(max_features=3000, stop_words='english')\n",
    "movie_vectors = cv.fit_transform(updated_movies['tags']).toarray()"
   ]
  },
  {
   "cell_type": "code",
   "execution_count": 42,
   "id": "66d35b52",
   "metadata": {},
   "outputs": [],
   "source": [
    "# distance between the movies\n",
    "from sklearn.metrics.pairwise import cosine_similarity\n",
    "similarity = cosine_similarity(movie_vectors)"
   ]
  },
  {
   "cell_type": "code",
   "execution_count": 43,
   "id": "b1b662f7",
   "metadata": {},
   "outputs": [],
   "source": [
    "def recommend(movie):\n",
    "    index = updated_movies[updated_movies['title'] == movie].index[0]\n",
    "    distances = sorted(list(enumerate(similarity[index])), reverse=True, key=lambda x: x[1])\n",
    "    \n",
    "    for i in distances[1:6]:\n",
    "        print(updated_movies.iloc[i[0]].title)"
   ]
  },
  {
   "cell_type": "code",
   "execution_count": 45,
   "id": "8b1c0a7c",
   "metadata": {},
   "outputs": [
    {
     "name": "stdout",
     "output_type": "stream",
     "text": [
      "the matrix revolutions\n",
      "hackers\n",
      "the matrix reloaded\n",
      "wargames\n",
      "the thirteenth floor\n"
     ]
    }
   ],
   "source": [
    "recommend('the matrix')"
   ]
  },
  {
   "cell_type": "code",
   "execution_count": 46,
   "id": "38e23195",
   "metadata": {},
   "outputs": [],
   "source": [
    "import pickle\n",
    "pickle.dump(updated_movies, open('movies.pkl', 'wb'))\n",
    "pickle.dump(similarity,open('similarity.pkl','wb'))"
   ]
  }
 ],
 "metadata": {
  "kernelspec": {
   "display_name": "py310",
   "language": "python",
   "name": "python3"
  },
  "language_info": {
   "codemirror_mode": {
    "name": "ipython",
    "version": 3
   },
   "file_extension": ".py",
   "mimetype": "text/x-python",
   "name": "python",
   "nbconvert_exporter": "python",
   "pygments_lexer": "ipython3",
   "version": "3.10.16"
  }
 },
 "nbformat": 4,
 "nbformat_minor": 5
}
